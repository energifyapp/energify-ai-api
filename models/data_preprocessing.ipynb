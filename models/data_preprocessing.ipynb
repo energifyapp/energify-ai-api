{
 "cells": [
  {
   "cell_type": "code",
   "execution_count": 8,
   "source": [
    "import numpy as np\r\n",
    "import pandas as pd\r\n",
    "\r\n",
    "# read data\r\n",
    "data = pd.read_csv('../data/monthly_household_2005_2018.csv')"
   ],
   "outputs": [],
   "metadata": {}
  },
  {
   "cell_type": "code",
   "execution_count": 9,
   "source": [
    "# first rows\r\n",
    "data.head(5)"
   ],
   "outputs": [
    {
     "output_type": "execute_result",
     "data": {
      "text/html": [
       "<div>\n",
       "<style scoped>\n",
       "    .dataframe tbody tr th:only-of-type {\n",
       "        vertical-align: middle;\n",
       "    }\n",
       "\n",
       "    .dataframe tbody tr th {\n",
       "        vertical-align: top;\n",
       "    }\n",
       "\n",
       "    .dataframe thead th {\n",
       "        text-align: right;\n",
       "    }\n",
       "</style>\n",
       "<table border=\"1\" class=\"dataframe\">\n",
       "  <thead>\n",
       "    <tr style=\"text-align: right;\">\n",
       "      <th></th>\n",
       "      <th>month</th>\n",
       "      <th>overall</th>\n",
       "      <th>public_housing</th>\n",
       "      <th>1-room_2-room</th>\n",
       "      <th>3-room</th>\n",
       "      <th>4-room</th>\n",
       "      <th>5-room_and_executive</th>\n",
       "      <th>private_housing</th>\n",
       "      <th>private_apts_and_condo</th>\n",
       "      <th>landed_properties</th>\n",
       "      <th>others</th>\n",
       "    </tr>\n",
       "  </thead>\n",
       "  <tbody>\n",
       "    <tr>\n",
       "      <th>0</th>\n",
       "      <td>2005-01</td>\n",
       "      <td>418.1</td>\n",
       "      <td>330.9</td>\n",
       "      <td>135.2</td>\n",
       "      <td>241.7</td>\n",
       "      <td>345.6</td>\n",
       "      <td>422.0</td>\n",
       "      <td>751.4</td>\n",
       "      <td>624.8</td>\n",
       "      <td>1037.7</td>\n",
       "      <td>594.2</td>\n",
       "    </tr>\n",
       "    <tr>\n",
       "      <th>1</th>\n",
       "      <td>2005-02</td>\n",
       "      <td>408.3</td>\n",
       "      <td>319.1</td>\n",
       "      <td>129.0</td>\n",
       "      <td>235.2</td>\n",
       "      <td>333.6</td>\n",
       "      <td>405.1</td>\n",
       "      <td>749.8</td>\n",
       "      <td>619.2</td>\n",
       "      <td>1044.8</td>\n",
       "      <td>572.7</td>\n",
       "    </tr>\n",
       "    <tr>\n",
       "      <th>2</th>\n",
       "      <td>2005-03</td>\n",
       "      <td>446.9</td>\n",
       "      <td>347.6</td>\n",
       "      <td>131.5</td>\n",
       "      <td>253.1</td>\n",
       "      <td>363.4</td>\n",
       "      <td>445.4</td>\n",
       "      <td>825.2</td>\n",
       "      <td>679.3</td>\n",
       "      <td>1157.1</td>\n",
       "      <td>637.1</td>\n",
       "    </tr>\n",
       "    <tr>\n",
       "      <th>3</th>\n",
       "      <td>2005-04</td>\n",
       "      <td>496.2</td>\n",
       "      <td>389.7</td>\n",
       "      <td>148.0</td>\n",
       "      <td>280.3</td>\n",
       "      <td>407.4</td>\n",
       "      <td>501.9</td>\n",
       "      <td>900.8</td>\n",
       "      <td>759.2</td>\n",
       "      <td>1224.8</td>\n",
       "      <td>723.3</td>\n",
       "    </tr>\n",
       "    <tr>\n",
       "      <th>4</th>\n",
       "      <td>2005-05</td>\n",
       "      <td>496.8</td>\n",
       "      <td>388.0</td>\n",
       "      <td>147.0</td>\n",
       "      <td>281.0</td>\n",
       "      <td>404.9</td>\n",
       "      <td>498.9</td>\n",
       "      <td>909.9</td>\n",
       "      <td>772.9</td>\n",
       "      <td>1224.2</td>\n",
       "      <td>693.5</td>\n",
       "    </tr>\n",
       "  </tbody>\n",
       "</table>\n",
       "</div>"
      ],
      "text/plain": [
       "     month  overall  public_housing  1-room_2-room  3-room  4-room  \\\n",
       "0  2005-01    418.1           330.9          135.2   241.7   345.6   \n",
       "1  2005-02    408.3           319.1          129.0   235.2   333.6   \n",
       "2  2005-03    446.9           347.6          131.5   253.1   363.4   \n",
       "3  2005-04    496.2           389.7          148.0   280.3   407.4   \n",
       "4  2005-05    496.8           388.0          147.0   281.0   404.9   \n",
       "\n",
       "   5-room_and_executive  private_housing  private_apts_and_condo  \\\n",
       "0                 422.0            751.4                   624.8   \n",
       "1                 405.1            749.8                   619.2   \n",
       "2                 445.4            825.2                   679.3   \n",
       "3                 501.9            900.8                   759.2   \n",
       "4                 498.9            909.9                   772.9   \n",
       "\n",
       "   landed_properties  others  \n",
       "0             1037.7   594.2  \n",
       "1             1044.8   572.7  \n",
       "2             1157.1   637.1  \n",
       "3             1224.8   723.3  \n",
       "4             1224.2   693.5  "
      ]
     },
     "metadata": {},
     "execution_count": 9
    }
   ],
   "metadata": {}
  },
  {
   "cell_type": "code",
   "execution_count": 24,
   "source": [
    "# 1.- Copy data for each dataset that we are going to make and drop unnecesary rows\r\n",
    "rooms_1_2 = data[[\"1-room_2-room\"]]\r\n",
    "rooms_3 = data[[\"3-room\"]]\r\n",
    "rooms_4 = data[[\"4-room\"]]\r\n",
    "rooms_5 = data[[\"5-room_and_executive\"]]\r\n",
    "condo = data[[\"private_apts_and_condo\"]]"
   ],
   "outputs": [],
   "metadata": {}
  },
  {
   "cell_type": "code",
   "execution_count": 31,
   "source": [
    "months = pd.DataFrame(data['month'])"
   ],
   "outputs": [],
   "metadata": {}
  },
  {
   "cell_type": "code",
   "execution_count": 138,
   "source": [
    "# remove 1st and last day\r\n",
    "rooms_1_2_prev = rooms_1_2.head(-1).rename(columns={\"1-room_2-room\": \"previous_day\"}) # remove last day\r\n",
    "rooms_1_2_next = rooms_1_2.tail(-1).rename(columns={\"1-room_2-room\": \"next_day\"})\r\n",
    "\r\n",
    "rooms_1_2_data = {\"Previous Day\": rooms_1_2_prev['previous_day'], \"Next day\": rooms_1_2_next['next_day'].reset_index(drop=True)}\r\n",
    "rooms_1_2_dataset = pd.DataFrame(rooms_1_2_data)\r\n",
    "rooms_1_2_dataset.to_csv('../data/rooms_1.csv')"
   ],
   "outputs": [],
   "metadata": {}
  },
  {
   "cell_type": "code",
   "execution_count": 139,
   "source": [
    "# repeate for each type of room\r\n",
    "rooms_3_prev = rooms_3.head(-1).rename(columns={\"3-room\": \"previous_day\"}) # remove last day\r\n",
    "rooms_3_next = rooms_3.tail(-1).rename(columns={\"3-room\": \"next_day\"})\r\n",
    "\r\n",
    "rooms_3_data = {\"Previous Day\": rooms_3_prev['previous_day'], \"Next day\": rooms_3_next['next_day'].reset_index(drop=True)}\r\n",
    "rooms_3_dataset = pd.DataFrame(rooms_3_data)\r\n",
    "rooms_3_dataset.to_csv('../data/rooms_3.csv')"
   ],
   "outputs": [],
   "metadata": {}
  },
  {
   "cell_type": "code",
   "execution_count": 140,
   "source": [
    "rooms_4_prev = rooms_4.head(-1).rename(columns={\"4-room\": \"previous_day\"}) # remove last day\r\n",
    "rooms_4_next = rooms_4.tail(-1).rename(columns={\"4-room\": \"next_day\"})\r\n",
    "\r\n",
    "rooms_4_data = {\"Previous Day\": rooms_4_prev['previous_day'], \"Next day\": rooms_4_next['next_day'].reset_index(drop=True)}\r\n",
    "rooms_4_dataset = pd.DataFrame(rooms_4_data)\r\n",
    "rooms_4_dataset.to_csv('../data/rooms_4.csv')"
   ],
   "outputs": [],
   "metadata": {}
  },
  {
   "cell_type": "code",
   "execution_count": 141,
   "source": [
    "rooms_5_prev = rooms_5.head(-1).rename(columns={\"5-room_and_executive\": \"previous_day\"}) # remove last day\r\n",
    "rooms_5_next = rooms_5.tail(-1).rename(columns={\"5-room_and_executive\": \"next_day\"})\r\n",
    "rooms_5_data = {\"Previous Day\": rooms_5_prev['previous_day'], \"Next day\": rooms_5_next['next_day'].reset_index(drop=True)}\r\n",
    "rooms_5_dataset = pd.DataFrame(rooms_5_data)\r\n",
    "rooms_5_dataset.to_csv('../data/rooms_5.csv')"
   ],
   "outputs": [],
   "metadata": {}
  },
  {
   "cell_type": "code",
   "execution_count": 142,
   "source": [
    "condo_prev = condo.head(-1).rename(columns={\"private_apts_and_condo\": \"previous_day\"}) # remove last day\r\n",
    "condo_next = condo.tail(-1).rename(columns={\"private_apts_and_condo\": \"next_day\"})\r\n",
    "condo_data = {\"Previous Day\": condo_prev['previous_day'], \"Next day\": condo_next['next_day'].reset_index(drop=True)}\r\n",
    "condo_dataset = pd.DataFrame(condo_data)\r\n",
    "condo_dataset.to_csv('../data/condo.csv')"
   ],
   "outputs": [],
   "metadata": {}
  },
  {
   "cell_type": "code",
   "execution_count": null,
   "source": [],
   "outputs": [],
   "metadata": {}
  }
 ],
 "metadata": {
  "orig_nbformat": 4,
  "language_info": {
   "name": "python",
   "version": "3.6.8",
   "mimetype": "text/x-python",
   "codemirror_mode": {
    "name": "ipython",
    "version": 3
   },
   "pygments_lexer": "ipython3",
   "nbconvert_exporter": "python",
   "file_extension": ".py"
  },
  "kernelspec": {
   "name": "python3",
   "display_name": "Python 3.6.8 64-bit"
  },
  "interpreter": {
   "hash": "4184fae79dc3a2c9f8f98935393294d886c9eccddd6835400bcbba68531bbfcb"
  }
 },
 "nbformat": 4,
 "nbformat_minor": 2
}